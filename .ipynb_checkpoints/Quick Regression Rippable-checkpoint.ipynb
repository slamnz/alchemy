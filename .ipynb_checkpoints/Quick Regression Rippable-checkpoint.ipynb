{
 "cells": [
  {
   "cell_type": "markdown",
   "metadata": {},
   "source": [
    "# Purpose\n",
    "- A light script to 10 FOLD CV regression models\n",
    "- Exhaustively used all scoring metrics sklearn\n",
    "- Modifiables: models, scoring_metrics"
   ]
  },
  {
   "cell_type": "code",
   "execution_count": 41,
   "metadata": {
    "collapsed": false
   },
   "outputs": [],
   "source": [
    "from sklearn.ensemble import GradientBoostingRegressor, RandomForestRegressor\n",
    "from sklearn.linear_model import LinearRegression\n",
    "from sklearn.model_selection import cross_validate\n",
    "from sklearn.datasets import make_regression\n",
    "from pandas import DataFrame\n",
    "from sklearn.metrics import make_scorer,r2_score,explained_variance_score, mean_absolute_error, mean_squared_error,mean_squared_log_error,median_absolute_error "
   ]
  },
  {
   "cell_type": "code",
   "execution_count": 11,
   "metadata": {
    "collapsed": false
   },
   "outputs": [],
   "source": [
    "models = [\n",
    "    GradientBoostingRegressor(n_estimators=100),\n",
    "    GradientBoostingRegressor(n_estimators=250),\n",
    "    GradientBoostingRegressor(n_estimators=500),\n",
    "    GradientBoostingRegressor(n_estimators=750)\n",
    "]"
   ]
  },
  {
   "cell_type": "code",
   "execution_count": 49,
   "metadata": {
    "collapsed": false
   },
   "outputs": [],
   "source": [
    "score_metrics = {\n",
    "    \"r2_score\": make_scorer(r2_score),\n",
    "    \"explained_variance_score\": make_scorer(explained_variance_score),\n",
    "    \"mean_absolute_error\": make_scorer(mean_absolute_error), \n",
    "    \"mean_squared_error\": make_scorer(mean_squared_error),\n",
    "    #\"mean_squared_log_error\": make_scorer(mean_squared_log_error),\n",
    "    \"median_absolute_error\":make_scorer(median_absolute_error)\n",
    "}"
   ]
  },
  {
   "cell_type": "code",
   "execution_count": 50,
   "metadata": {
    "collapsed": false
   },
   "outputs": [],
   "source": [
    "X,y = make_regression()"
   ]
  },
  {
   "cell_type": "code",
   "execution_count": 68,
   "metadata": {
    "collapsed": false
   },
   "outputs": [
    {
     "data": {
      "text/html": [
       "<div>\n",
       "<style>\n",
       "    .dataframe thead tr:only-child th {\n",
       "        text-align: right;\n",
       "    }\n",
       "\n",
       "    .dataframe thead th {\n",
       "        text-align: left;\n",
       "    }\n",
       "\n",
       "    .dataframe tbody tr th {\n",
       "        vertical-align: top;\n",
       "    }\n",
       "</style>\n",
       "<table border=\"1\" class=\"dataframe\">\n",
       "  <thead>\n",
       "    <tr style=\"text-align: right;\">\n",
       "      <th></th>\n",
       "      <th>fit_time</th>\n",
       "      <th>score_time</th>\n",
       "      <th>test_explained_variance_score</th>\n",
       "      <th>test_mean_absolute_error</th>\n",
       "      <th>test_mean_squared_error</th>\n",
       "      <th>test_median_absolute_error</th>\n",
       "      <th>test_r2_score</th>\n",
       "    </tr>\n",
       "  </thead>\n",
       "  <tbody>\n",
       "    <tr>\n",
       "      <th>0</th>\n",
       "      <td>0.051146</td>\n",
       "      <td>0.000</td>\n",
       "      <td>0.379544</td>\n",
       "      <td>153.336343</td>\n",
       "      <td>28591.139936</td>\n",
       "      <td>163.596148</td>\n",
       "      <td>0.347272</td>\n",
       "    </tr>\n",
       "    <tr>\n",
       "      <th>1</th>\n",
       "      <td>0.067108</td>\n",
       "      <td>0.000</td>\n",
       "      <td>0.486346</td>\n",
       "      <td>143.126848</td>\n",
       "      <td>25517.920352</td>\n",
       "      <td>158.471857</td>\n",
       "      <td>0.174031</td>\n",
       "    </tr>\n",
       "    <tr>\n",
       "      <th>2</th>\n",
       "      <td>0.064686</td>\n",
       "      <td>0.000</td>\n",
       "      <td>0.653247</td>\n",
       "      <td>108.368630</td>\n",
       "      <td>15657.724597</td>\n",
       "      <td>108.507788</td>\n",
       "      <td>0.466802</td>\n",
       "    </tr>\n",
       "    <tr>\n",
       "      <th>3</th>\n",
       "      <td>0.065665</td>\n",
       "      <td>0.001</td>\n",
       "      <td>0.360983</td>\n",
       "      <td>127.442376</td>\n",
       "      <td>25164.581183</td>\n",
       "      <td>100.708247</td>\n",
       "      <td>0.348430</td>\n",
       "    </tr>\n",
       "    <tr>\n",
       "      <th>4</th>\n",
       "      <td>0.047681</td>\n",
       "      <td>0.000</td>\n",
       "      <td>0.290482</td>\n",
       "      <td>123.642812</td>\n",
       "      <td>22626.479518</td>\n",
       "      <td>109.667072</td>\n",
       "      <td>0.276237</td>\n",
       "    </tr>\n",
       "  </tbody>\n",
       "</table>\n",
       "</div>"
      ],
      "text/plain": [
       "   fit_time  score_time  test_explained_variance_score  \\\n",
       "0  0.051146       0.000                       0.379544   \n",
       "1  0.067108       0.000                       0.486346   \n",
       "2  0.064686       0.000                       0.653247   \n",
       "3  0.065665       0.001                       0.360983   \n",
       "4  0.047681       0.000                       0.290482   \n",
       "\n",
       "   test_mean_absolute_error  test_mean_squared_error  \\\n",
       "0                153.336343             28591.139936   \n",
       "1                143.126848             25517.920352   \n",
       "2                108.368630             15657.724597   \n",
       "3                127.442376             25164.581183   \n",
       "4                123.642812             22626.479518   \n",
       "\n",
       "   test_median_absolute_error  test_r2_score  \n",
       "0                  163.596148       0.347272  \n",
       "1                  158.471857       0.174031  \n",
       "2                  108.507788       0.466802  \n",
       "3                  100.708247       0.348430  \n",
       "4                  109.667072       0.276237  "
      ]
     },
     "execution_count": 68,
     "metadata": {},
     "output_type": "execute_result"
    }
   ],
   "source": [
    "cv_scores = cross_validate(models[0], X,y, cv=10, return_train_score=False, scoring=score_metrics)\n",
    "cv_scores = DataFrame(cv_scores)\n",
    "cv_scores.head()"
   ]
  },
  {
   "cell_type": "code",
   "execution_count": 112,
   "metadata": {
    "collapsed": false
   },
   "outputs": [
    {
     "data": {
      "text/plain": [
       "{'fit_time': 0.060821700096130374,\n",
       " 'score_time': 0.00039927959442138673,\n",
       " 'test_explained_variance_score': 0.30757897043163435,\n",
       " 'test_mean_absolute_error': 133.28648358090828,\n",
       " 'test_mean_squared_error': 25419.435931960088,\n",
       " 'test_median_absolute_error': 128.61392539519377,\n",
       " 'test_r2_score': 0.17353683299697614}"
      ]
     },
     "execution_count": 112,
     "metadata": {},
     "output_type": "execute_result"
    }
   ],
   "source": [
    "DataFrame(cv_scores).mean().to_dict()"
   ]
  },
  {
   "cell_type": "code",
   "execution_count": 66,
   "metadata": {
    "collapsed": true
   },
   "outputs": [],
   "source": [
    "from IPython.display import display"
   ]
  },
  {
   "cell_type": "code",
   "execution_count": 134,
   "metadata": {
    "collapsed": false
   },
   "outputs": [],
   "source": [
    "def cv_models(models):\n",
    "    rows = []\n",
    "    for model in models:\n",
    "        cv_score = DataFrame(cross_validate(model, X,y, cv=10, return_train_score=False, scoring=score_metrics)).mean().to_dict()\n",
    "        model_parameters = model.get_params()\n",
    "        collate = {**model_parameters, **cv_score}\n",
    "        rows.append(collate)\n",
    "    display(DataFrame(rows).round(2))"
   ]
  },
  {
   "cell_type": "code",
   "execution_count": 135,
   "metadata": {
    "collapsed": false
   },
   "outputs": [
    {
     "data": {
      "text/html": [
       "<div>\n",
       "<style>\n",
       "    .dataframe thead tr:only-child th {\n",
       "        text-align: right;\n",
       "    }\n",
       "\n",
       "    .dataframe thead th {\n",
       "        text-align: left;\n",
       "    }\n",
       "\n",
       "    .dataframe tbody tr th {\n",
       "        vertical-align: top;\n",
       "    }\n",
       "</style>\n",
       "<table border=\"1\" class=\"dataframe\">\n",
       "  <thead>\n",
       "    <tr style=\"text-align: right;\">\n",
       "      <th></th>\n",
       "      <th>alpha</th>\n",
       "      <th>criterion</th>\n",
       "      <th>fit_time</th>\n",
       "      <th>init</th>\n",
       "      <th>learning_rate</th>\n",
       "      <th>loss</th>\n",
       "      <th>max_depth</th>\n",
       "      <th>max_features</th>\n",
       "      <th>max_leaf_nodes</th>\n",
       "      <th>min_impurity_decrease</th>\n",
       "      <th>...</th>\n",
       "      <th>random_state</th>\n",
       "      <th>score_time</th>\n",
       "      <th>subsample</th>\n",
       "      <th>test_explained_variance_score</th>\n",
       "      <th>test_mean_absolute_error</th>\n",
       "      <th>test_mean_squared_error</th>\n",
       "      <th>test_median_absolute_error</th>\n",
       "      <th>test_r2_score</th>\n",
       "      <th>verbose</th>\n",
       "      <th>warm_start</th>\n",
       "    </tr>\n",
       "  </thead>\n",
       "  <tbody>\n",
       "    <tr>\n",
       "      <th>0</th>\n",
       "      <td>0.9</td>\n",
       "      <td>friedman_mse</td>\n",
       "      <td>0.06</td>\n",
       "      <td>None</td>\n",
       "      <td>0.1</td>\n",
       "      <td>ls</td>\n",
       "      <td>3</td>\n",
       "      <td>None</td>\n",
       "      <td>None</td>\n",
       "      <td>0.0</td>\n",
       "      <td>...</td>\n",
       "      <td>None</td>\n",
       "      <td>0.0</td>\n",
       "      <td>1.0</td>\n",
       "      <td>0.30</td>\n",
       "      <td>134.15</td>\n",
       "      <td>25917.87</td>\n",
       "      <td>127.82</td>\n",
       "      <td>0.16</td>\n",
       "      <td>0</td>\n",
       "      <td>False</td>\n",
       "    </tr>\n",
       "    <tr>\n",
       "      <th>1</th>\n",
       "      <td>0.9</td>\n",
       "      <td>friedman_mse</td>\n",
       "      <td>0.15</td>\n",
       "      <td>None</td>\n",
       "      <td>0.1</td>\n",
       "      <td>ls</td>\n",
       "      <td>3</td>\n",
       "      <td>None</td>\n",
       "      <td>None</td>\n",
       "      <td>0.0</td>\n",
       "      <td>...</td>\n",
       "      <td>None</td>\n",
       "      <td>0.0</td>\n",
       "      <td>1.0</td>\n",
       "      <td>0.31</td>\n",
       "      <td>134.02</td>\n",
       "      <td>25736.92</td>\n",
       "      <td>126.58</td>\n",
       "      <td>0.16</td>\n",
       "      <td>0</td>\n",
       "      <td>False</td>\n",
       "    </tr>\n",
       "    <tr>\n",
       "      <th>2</th>\n",
       "      <td>0.9</td>\n",
       "      <td>friedman_mse</td>\n",
       "      <td>0.23</td>\n",
       "      <td>None</td>\n",
       "      <td>0.1</td>\n",
       "      <td>ls</td>\n",
       "      <td>3</td>\n",
       "      <td>None</td>\n",
       "      <td>None</td>\n",
       "      <td>0.0</td>\n",
       "      <td>...</td>\n",
       "      <td>None</td>\n",
       "      <td>0.0</td>\n",
       "      <td>1.0</td>\n",
       "      <td>0.31</td>\n",
       "      <td>134.38</td>\n",
       "      <td>25593.95</td>\n",
       "      <td>131.60</td>\n",
       "      <td>0.17</td>\n",
       "      <td>0</td>\n",
       "      <td>False</td>\n",
       "    </tr>\n",
       "    <tr>\n",
       "      <th>3</th>\n",
       "      <td>0.9</td>\n",
       "      <td>friedman_mse</td>\n",
       "      <td>0.25</td>\n",
       "      <td>None</td>\n",
       "      <td>0.1</td>\n",
       "      <td>ls</td>\n",
       "      <td>3</td>\n",
       "      <td>None</td>\n",
       "      <td>None</td>\n",
       "      <td>0.0</td>\n",
       "      <td>...</td>\n",
       "      <td>None</td>\n",
       "      <td>0.0</td>\n",
       "      <td>1.0</td>\n",
       "      <td>0.31</td>\n",
       "      <td>134.04</td>\n",
       "      <td>25780.15</td>\n",
       "      <td>124.73</td>\n",
       "      <td>0.17</td>\n",
       "      <td>0</td>\n",
       "      <td>False</td>\n",
       "    </tr>\n",
       "  </tbody>\n",
       "</table>\n",
       "<p>4 rows × 26 columns</p>\n",
       "</div>"
      ],
      "text/plain": [
       "   alpha     criterion  fit_time  init  learning_rate loss  max_depth  \\\n",
       "0    0.9  friedman_mse      0.06  None            0.1   ls          3   \n",
       "1    0.9  friedman_mse      0.15  None            0.1   ls          3   \n",
       "2    0.9  friedman_mse      0.23  None            0.1   ls          3   \n",
       "3    0.9  friedman_mse      0.25  None            0.1   ls          3   \n",
       "\n",
       "  max_features max_leaf_nodes  min_impurity_decrease     ...     random_state  \\\n",
       "0         None           None                    0.0     ...             None   \n",
       "1         None           None                    0.0     ...             None   \n",
       "2         None           None                    0.0     ...             None   \n",
       "3         None           None                    0.0     ...             None   \n",
       "\n",
       "   score_time  subsample  test_explained_variance_score  \\\n",
       "0         0.0        1.0                           0.30   \n",
       "1         0.0        1.0                           0.31   \n",
       "2         0.0        1.0                           0.31   \n",
       "3         0.0        1.0                           0.31   \n",
       "\n",
       "   test_mean_absolute_error test_mean_squared_error  \\\n",
       "0                    134.15                25917.87   \n",
       "1                    134.02                25736.92   \n",
       "2                    134.38                25593.95   \n",
       "3                    134.04                25780.15   \n",
       "\n",
       "  test_median_absolute_error  test_r2_score  verbose  warm_start  \n",
       "0                     127.82           0.16        0       False  \n",
       "1                     126.58           0.16        0       False  \n",
       "2                     131.60           0.17        0       False  \n",
       "3                     124.73           0.17        0       False  \n",
       "\n",
       "[4 rows x 26 columns]"
      ]
     },
     "metadata": {},
     "output_type": "display_data"
    }
   ],
   "source": [
    "cv_models(models)"
   ]
  }
 ],
 "metadata": {
  "kernelspec": {
   "display_name": "Python [default]",
   "language": "python",
   "name": "python3"
  },
  "language_info": {
   "codemirror_mode": {
    "name": "ipython",
    "version": 3
   },
   "file_extension": ".py",
   "mimetype": "text/x-python",
   "name": "python",
   "nbconvert_exporter": "python",
   "pygments_lexer": "ipython3",
   "version": "3.5.2"
  }
 },
 "nbformat": 4,
 "nbformat_minor": 2
}
